{
 "cells": [
  {
   "cell_type": "code",
   "execution_count": 2,
   "id": "299212ff-5e7a-4944-9d80-b8b3b345650a",
   "metadata": {},
   "outputs": [],
   "source": [
    "import pandas as pd\n",
    "from sklearn.model_selection import train_test_split\n",
    "from sklearn.linear_model import LinearRegression\n",
    "from sklearn.metrics import mean_squared_error, r2_score\n"
   ]
  },
  {
   "cell_type": "code",
   "execution_count": 3,
   "id": "5cef3969-2e5b-43cb-a5bf-71fc56f23430",
   "metadata": {},
   "outputs": [],
   "source": [
    "def load_and_prepare_data(filepath):\n",
    "    data = pd.read_csv(filepath)\n",
    "    data.drop(['Date'], axis=1, inplace=True)  # Assuming 'Date' is not used in the model\n",
    "    X = data.drop('Profit', axis=1)  # Features\n",
    "    y = data['Profit']  # Target\n",
    "    return X, y\n"
   ]
  },
  {
   "cell_type": "code",
   "execution_count": 4,
   "id": "7ad64957-9c48-48c0-94c0-e7c34660e509",
   "metadata": {},
   "outputs": [],
   "source": [
    "def train_model(X_train, y_train):\n",
    "    model = LinearRegression()\n",
    "    model.fit(X_train, y_train)\n",
    "    return model\n"
   ]
  },
  {
   "cell_type": "code",
   "execution_count": 5,
   "id": "9c1ecae2-f126-4c30-bbe8-df418411183b",
   "metadata": {},
   "outputs": [],
   "source": [
    "def evaluate_model(model, X_test, y_test):\n",
    "    predictions = model.predict(X_test)\n",
    "    mse = mean_squared_error(y_test, predictions)\n",
    "    r2 = r2_score(y_test, predictions)\n",
    "    print(f\"Mean Squared Error: {mse}\")\n",
    "    print(f\"R^2 Score: {r2}\")\n"
   ]
  },
  {
   "cell_type": "code",
   "execution_count": 6,
   "id": "b0fa72f8-11e6-4807-8b33-a8ca5545b194",
   "metadata": {},
   "outputs": [],
   "source": [
    "def run_financial_modeling_workflow(filepath):\n",
    "    X, y = load_and_prepare_data(filepath)\n",
    "    X_train, X_test, y_train, y_test = train_test_split(X, y, test_size=0.2, random_state=42)\n",
    "    model = train_model(X_train, y_train)\n",
    "    evaluate_model(model, X_test, y_test)\n",
    "    return model\n"
   ]
  },
  {
   "cell_type": "code",
   "execution_count": 7,
   "id": "64f89ee5-78d8-44bc-8884-2d7be159be89",
   "metadata": {},
   "outputs": [
    {
     "name": "stdout",
     "output_type": "stream",
     "text": [
      "Mean Squared Error: 9.16652093603969e-22\n",
      "R^2 Score: 1.0\n"
     ]
    }
   ],
   "source": [
    "# Adjust the file path to where your CSV file is stored\n",
    "model = run_financial_modeling_workflow('../data/daily_financial_data.csv')\n"
   ]
  },
  {
   "cell_type": "code",
   "execution_count": 9,
   "id": "9cf9ad2d-c931-44ed-8d52-fdbb5645813e",
   "metadata": {},
   "outputs": [
    {
     "name": "stdout",
     "output_type": "stream",
     "text": [
      "Average Cross-Validated MSE: 5.966877546768406e-22\n",
      "Average Cross-Validated R^2: 1.0\n"
     ]
    }
   ],
   "source": [
    "import pandas as pd\n",
    "from sklearn.model_selection import train_test_split, cross_val_score\n",
    "from sklearn.linear_model import LinearRegression\n",
    "import numpy as np\n",
    "\n",
    "# Function to load and prepare data\n",
    "def load_and_prepare_data(filepath):\n",
    "    data = pd.read_csv(filepath)\n",
    "    X = data.drop(['Date', 'Profit'], axis=1)  # Assuming 'Date' and 'Profit' are in the dataset\n",
    "    y = data['Profit']\n",
    "    return X, y\n",
    "\n",
    "# Function for cross-validation\n",
    "def cross_validate_model(model, X, y, cv=5):\n",
    "    mse_scores = -cross_val_score(model, X, y, scoring='neg_mean_squared_error', cv=cv)\n",
    "    r2_scores = cross_val_score(model, X, y, scoring='r2', cv=cv)\n",
    "    print(f\"Average Cross-Validated MSE: {np.mean(mse_scores)}\")\n",
    "    print(f\"Average Cross-Validated R^2: {np.mean(r2_scores)}\")\n",
    "\n",
    "# Load and prepare data\n",
    "X, y = load_and_prepare_data('../data/daily_financial_data.csv')\n",
    "\n",
    "# Define the model\n",
    "model = LinearRegression()\n",
    "\n",
    "# Perform cross-validation\n",
    "cross_validate_model(model, X, y)\n"
   ]
  },
  {
   "cell_type": "code",
   "execution_count": 10,
   "id": "ac6da40c-7634-4ad2-9eec-6f587943206d",
   "metadata": {},
   "outputs": [
    {
     "name": "stdout",
     "output_type": "stream",
     "text": [
      "Feature Importances:\n",
      "COGS          0.470661\n",
      "Revenue       0.427728\n",
      "Marketing     0.040455\n",
      "Payroll       0.033108\n",
      "R&D           0.012256\n",
      "Consulting    0.009182\n",
      "Travel        0.006610\n",
      "dtype: float64\n"
     ]
    }
   ],
   "source": [
    "from sklearn.ensemble import RandomForestRegressor\n",
    "\n",
    "# Train a RandomForestRegressor to evaluate feature importance\n",
    "forest_model = RandomForestRegressor(n_estimators=100, random_state=42)\n",
    "forest_model.fit(X, y)\n",
    "\n",
    "# Print feature importances\n",
    "feature_importances = pd.Series(forest_model.feature_importances_, index=X.columns)\n",
    "print(\"Feature Importances:\")\n",
    "print(feature_importances.sort_values(ascending=False))\n"
   ]
  },
  {
   "cell_type": "code",
   "execution_count": null,
   "id": "9f3c99c8-8655-44bb-a9c8-cd93bb4373f4",
   "metadata": {},
   "outputs": [],
   "source": []
  }
 ],
 "metadata": {
  "kernelspec": {
   "display_name": "Python 3 (ipykernel)",
   "language": "python",
   "name": "python3"
  },
  "language_info": {
   "codemirror_mode": {
    "name": "ipython",
    "version": 3
   },
   "file_extension": ".py",
   "mimetype": "text/x-python",
   "name": "python",
   "nbconvert_exporter": "python",
   "pygments_lexer": "ipython3",
   "version": "3.11.7"
  }
 },
 "nbformat": 4,
 "nbformat_minor": 5
}
